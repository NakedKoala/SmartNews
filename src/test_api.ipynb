{
 "cells": [
  {
   "cell_type": "code",
   "execution_count": 33,
   "metadata": {},
   "outputs": [],
   "source": [
    "import requests\n",
    "import json"
   ]
  },
  {
   "cell_type": "code",
   "execution_count": 35,
   "metadata": {},
   "outputs": [],
   "source": [
    "r = requests.get('http://localhost:5000/')"
   ]
  },
  {
   "cell_type": "code",
   "execution_count": 55,
   "metadata": {},
   "outputs": [],
   "source": [
    "payload = {\n",
    "    'upfile': open('../input_raw_text/amzn.txt', 'rb')\n",
    "}\n",
    "\n",
    "r = requests.post('http://localhost:5000/summarize', files=payload)"
   ]
  },
  {
   "cell_type": "code",
   "execution_count": 56,
   "metadata": {},
   "outputs": [
    {
     "data": {
      "text/plain": [
       "{'analytics': {'compress_ratio': 0.39870689655172414,\n",
       "  'input_token': 464,\n",
       "  'output_token': 185},\n",
       " 'summarized_text': 'amazon has been trying to prevent the practice on its platform. alerting sellers who may be in violation of its pricing policies\\nprices for products like surgical masks have jumped to several times what they normally cost\\nthird-party sellers have received emails from amazon alerting them about masks that are \"not in compliance \" with the company \\'s fair pricing policy\\nthe issue of price-gouging has been fiercely debated on the amazon seller forums\\na majority of the states in the us have laws against raising prices excessively during emergencies such as natural disasters. some experts argue such laws can backfire at times by encouraging people to hoard supplies\\nauthorities have opened an investigation into high prices for surgical masks. in italy , the region has been hit particularly hard by the coronavirus outbreak\\namazon faced criticism after customers reported wildly inflated prices. it said it would begin taking action against vendors\\namazon could not immediately be reached for comment. could n\\'t immediately be made for comment\\n'}"
      ]
     },
     "execution_count": 56,
     "metadata": {},
     "output_type": "execute_result"
    }
   ],
   "source": [
    "r.json()"
   ]
  },
  {
   "cell_type": "code",
   "execution_count": null,
   "metadata": {},
   "outputs": [],
   "source": []
  }
 ],
 "metadata": {
  "kernelspec": {
   "display_name": "Python 3",
   "language": "python",
   "name": "python3"
  },
  "language_info": {
   "codemirror_mode": {
    "name": "ipython",
    "version": 3
   },
   "file_extension": ".py",
   "mimetype": "text/x-python",
   "name": "python",
   "nbconvert_exporter": "python",
   "pygments_lexer": "ipython3",
   "version": "3.6.8"
  }
 },
 "nbformat": 4,
 "nbformat_minor": 4
}
