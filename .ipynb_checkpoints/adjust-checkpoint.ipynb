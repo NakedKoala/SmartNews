{
 "cells": [
  {
   "cell_type": "code",
   "execution_count": 1,
   "metadata": {},
   "outputs": [],
   "source": [
    "import spacy\n",
    "import re\n",
    "import os\n"
   ]
  },
  {
   "cell_type": "code",
   "execution_count": 2,
   "metadata": {},
   "outputs": [],
   "source": [
    "class BlockLenAdjuster:\n",
    "    def __init__(self, input_dir, min_block_len=300, max_block_len=500):\n",
    "        self.input_dir = input_dir\n",
    "        self.nlp = spacy.load(\"en_core_web_sm\")\n",
    "        self.min_block_len = min_block_len\n",
    "        self.max_block_len = max_block_len\n",
    "        \n",
    "    def compact_paragraph(self, file_name):\n",
    "        \n",
    "        with open(os.path.join(self.input_dir, file_name), 'r') as f: \n",
    "            raw_content = f.read()\n",
    "        compacted_content = re.sub(r'\\n+', '\\n', raw_content).strip()\n",
    "        with open(os.path.join(self.input_dir, f'proc_{file_name}'), 'w') as f: \n",
    "            f.write(compacted_content)\n",
    "            \n",
    "    def merge(self, file_name):\n",
    "        with open(os.path.join(self.input_dir, file_name), 'r') as f: \n",
    "            raw_content = f.read()\n",
    "        merged_content = re.sub(r'\\n+', ' ', raw_content).strip()\n",
    "        with open(os.path.join(self.input_dir, f'proc_{file_name}'), 'w') as f: \n",
    "            f.write(merged_content)\n",
    "        \n",
    "    def adjust(self, file_name):\n",
    "        \n",
    "        with open(os.path.join(self.input_dir, file_name), 'r') as f: \n",
    "            raw_content = f.read()\n",
    "        raw_content = re.sub(r'\\n+', '\\n', raw_content).strip()\n",
    "        raw_content_blocks = raw_content.split('\\n')\n",
    "        adjusted_content_blocks = []\n",
    "        \n",
    "        staging = []\n",
    "        staging_token_count = 0\n",
    "        \n",
    "        for block in raw_content_blocks:\n",
    "            block_doc = self.nlp(block)\n",
    "            if len(block_doc) + staging_token_count > self.min_block_len:\n",
    "                if len(block_doc) + staging_token_count < self.max_block_len:\n",
    "                    staging.append(block)\n",
    "                    to_add = ' '.join(staging)\n",
    "                    adjusted_content_blocks.append(to_add)\n",
    "                    staging = []\n",
    "                    staging_token_count = 0\n",
    "                else:\n",
    "                    to_add = ' '.join(staging)\n",
    "                    adjusted_content_blocks.append(to_add)\n",
    "                    staging = [block]\n",
    "                    staging_token_count = len(block_doc)     \n",
    "            else:\n",
    "                staging.append(block)\n",
    "                staging_token_count += len(block_doc)\n",
    "        \n",
    "        if len(staging) > 0:\n",
    "            to_add = ' '.join(staging)\n",
    "\n",
    "            adjusted_content_blocks.append(to_add)\n",
    "\n",
    "        proc_content = \"\\n\".join(adjusted_content_blocks)\n",
    "        \n",
    "        with open(os.path.join(self.input_dir, f'proc_{file_name}'), 'w') as f: \n",
    "            f.write(proc_content)\n",
    "            \n",
    "                \n",
    "        "
   ]
  },
  {
   "cell_type": "code",
   "execution_count": 7,
   "metadata": {},
   "outputs": [],
   "source": [
    "adj = BlockLenAdjuster(input_dir='/notebooks/PreSumm/input_raw_text')"
   ]
  },
  {
   "cell_type": "code",
   "execution_count": 8,
   "metadata": {},
   "outputs": [],
   "source": [
    "adj.compact_paragraph('amzn.txt')"
   ]
  },
  {
   "cell_type": "code",
   "execution_count": 9,
   "metadata": {},
   "outputs": [
    {
     "ename": "SyntaxError",
     "evalue": "invalid syntax (<ipython-input-9-714a53e5da48>, line 1)",
     "output_type": "error",
     "traceback": [
      "\u001b[0;36m  File \u001b[0;32m\"<ipython-input-9-714a53e5da48>\"\u001b[0;36m, line \u001b[0;32m1\u001b[0m\n\u001b[0;31m    python ./src/train.py \\\u001b[0m\n\u001b[0m            ^\u001b[0m\n\u001b[0;31mSyntaxError\u001b[0m\u001b[0;31m:\u001b[0m invalid syntax\n"
     ]
    }
   ],
   "source": [
    "python ./src/train.py \\\n",
    "-task abs \\\n",
    "-mode test_text \\\n",
    "-text_src ./input_raw_text/proc_amzn.txt \\\n",
    "-test_from ./models/model_step_148000.pt \\\n",
    "-log_file ./logs/pred.log \\\n",
    "-result_path /notebooks/PreSumm/pred/result \\\n",
    "-visible_gpus 0\n",
    "\n",
    "\n",
    "\n"
   ]
  },
  {
   "cell_type": "code",
   "execution_count": 13,
   "metadata": {},
   "outputs": [
    {
     "name": "stdout",
     "output_type": "stream",
     "text": [
      "The coronavirus outbreak has led to a shortage of protective masks and other medical supplies, leading some sellers to significantly increase prices. Amazon has been trying to prevent the practice on its platform, alerting sellers who may be in violation of its pricing policies, according to Wired . Most states in the US have \"price gouging\" laws which prevent businesses from taking of advantage of consumers by charging exorbitant amounts of money during emergencies. Authorities in countries such as  China and Italy have also received complaints about price gouging since the outbreak, while Amazon has faced similar challenges before . Visit Business Insider's homepage for more stories .\n",
      "\n",
      "As people across the world try to protect themselves from the Wuhan coronavirus, which has now claimed 2,700 lives and infected another 80,000 , demand for medical supplies has spiked. As a result, prices for products like surgical masks have jumped to several times what they normally cost, with businesses and individuals selling masks in bulk at a premium on sites ranging from Facebook to Craigslist .\n",
      "\n",
      "However, Amazon has been cracking down on potential price-gouging on its platform, according to Wired . The report said third-party sellers have received emails from Amazon alerting them about masks that are \"not in compliance\" with the company's fair pricing policy , which bans sellers from charging \"significantly higher than recent prices offered on or off Amazon.\"\n",
      "\n",
      "Wired also reported that some listings advertising overpriced masks have been deleted from Amazon, while noting the issue of price-gouging has been fiercely debated on the Amazon seller forums .\n",
      "\n",
      "A majority of the states in the US have laws against raising prices excessively during emergencies such as natural disasters, in order to prevent businesses from taking advantage of people in need of basics like food, gas, and shelter. However, some experts argue such laws can backfire at times by encouraging people to hoard supplies.\n",
      "\n",
      "Since the outbreak, Chinese officials have received at least 274 complaints about price-gouging and hoarding , according to Reuters. In Italy, which has been hit particularly hard by the coronavirus outbreak compared with other European countries, authorities have opened an investigation into high prices for surgical masks, according to Reuters.\n",
      "\n",
      "This issue isn't a first for Amazon. Following Hurricane Irma in 2017, Amazon faced criticism after customers reported wildly inflated prices , at which point it said it would begin taking action against vendors.\n",
      "\n",
      "Amazon could not immediately be reached for comment.\n"
     ]
    }
   ],
   "source": [
    "with open('/notebooks/PreSumm/input_raw_text/amzn.txt', 'r') as f:\n",
    "    print(f.read())"
   ]
  },
  {
   "cell_type": "code",
   "execution_count": null,
   "metadata": {},
   "outputs": [],
   "source": [
    "(Pdb) batch.src.dtype\n",
    "torch.int64\n",
    "(Pdb) batch.mask_src.dtype\n",
    "torch.float32\n",
    "(Pdb) batch.segs.dtype\n",
    "torch.int64\n",
    "(Pdb) batch.clss.dtype\n",
    "torch.int64\n",
    "(Pdb) batch.mask_clss.dtype\n",
    "*** AttributeError: 'Batch' object has no attribute 'mask_clss'\n",
    "(Pdb) batch.mask_cls.dtype\n",
    "torch.float32"
   ]
  },
  {
   "cell_type": "code",
   "execution_count": null,
   "metadata": {},
   "outputs": [],
   "source": [
    "(Pdb) batch.src.dtype\n",
    "torch.int64\n",
    "(Pdb) batch.segs.dtype\n",
    "torch.float64\n",
    "(Pdb) batch.mask_src.dtype\n",
    "torch.float32\n",
    "(Pdb) batch.clss.dtype\n",
    "torch.int64\n",
    "(Pdb) batch.mask_cls.dtype\n",
    "torch.float32"
   ]
  },
  {
   "cell_type": "code",
   "execution_count": null,
   "metadata": {},
   "outputs": [],
   "source": [
    "Pdb) batch.src.dtype\n",
    "torch.int64\n",
    "(Pdb) batch.segs.dtype\n",
    "torch.float32\n",
    "(Pdb) batch.mask_src.dtype\n",
    "torch.float32\n",
    "(Pdb) batch.mask_cls\n",
    "tensor([[1.],\n",
    "        [1.],\n",
    "        [1.],\n",
    "        [1.],\n",
    "        [1.],\n",
    "        [1.],\n",
    "        [1.],\n",
    "        [1.]])\n",
    "(Pdb) batch.mask_cls.dtype\n",
    "torch.float32\n",
    "(Pdb) batch.clss.dtype\n",
    "torch.int64"
   ]
  },
  {
   "cell_type": "code",
   "execution_count": 17,
   "metadata": {},
   "outputs": [
    {
     "ename": "AttributeError",
     "evalue": "'numpy.ndarray' object has no attribute 'lower'",
     "output_type": "error",
     "traceback": [
      "\u001b[0;31m---------------------------------------------------------------------------\u001b[0m",
      "\u001b[0;31mAttributeError\u001b[0m                            Traceback (most recent call last)",
      "\u001b[0;32m<ipython-input-17-063b16d99580>\u001b[0m in \u001b[0;36m<module>\u001b[0;34m\u001b[0m\n\u001b[1;32m      1\u001b[0m \u001b[0;32mimport\u001b[0m \u001b[0mnumpy\u001b[0m \u001b[0;32mas\u001b[0m \u001b[0mnp\u001b[0m\u001b[0;34m\u001b[0m\u001b[0;34m\u001b[0m\u001b[0m\n\u001b[1;32m      2\u001b[0m \u001b[0ma\u001b[0m \u001b[0;34m=\u001b[0m \u001b[0mnp\u001b[0m\u001b[0;34m.\u001b[0m\u001b[0marray\u001b[0m\u001b[0;34m(\u001b[0m\u001b[0;34m[\u001b[0m\u001b[0;34m'A'\u001b[0m\u001b[0;34m,\u001b[0m \u001b[0;34m'B'\u001b[0m\u001b[0;34m]\u001b[0m\u001b[0;34m)\u001b[0m\u001b[0;34m\u001b[0m\u001b[0;34m\u001b[0m\u001b[0m\n\u001b[0;32m----> 3\u001b[0;31m \u001b[0mnp\u001b[0m\u001b[0;34m.\u001b[0m\u001b[0mapply_along_axis\u001b[0m\u001b[0;34m(\u001b[0m\u001b[0;32mlambda\u001b[0m \u001b[0mx\u001b[0m\u001b[0;34m:\u001b[0m \u001b[0mx\u001b[0m\u001b[0;34m.\u001b[0m\u001b[0mlower\u001b[0m\u001b[0;34m(\u001b[0m\u001b[0;34m)\u001b[0m\u001b[0;34m.\u001b[0m\u001b[0mstrip\u001b[0m\u001b[0;34m(\u001b[0m\u001b[0;34m)\u001b[0m\u001b[0;34m,\u001b[0m \u001b[0;36m0\u001b[0m\u001b[0;34m,\u001b[0m \u001b[0ma\u001b[0m\u001b[0;34m)\u001b[0m\u001b[0;34m\u001b[0m\u001b[0;34m\u001b[0m\u001b[0m\n\u001b[0m",
      "\u001b[0;32m<__array_function__ internals>\u001b[0m in \u001b[0;36mapply_along_axis\u001b[0;34m(*args, **kwargs)\u001b[0m\n",
      "\u001b[0;32m/usr/local/lib/python3.6/dist-packages/numpy/lib/shape_base.py\u001b[0m in \u001b[0;36mapply_along_axis\u001b[0;34m(func1d, axis, arr, *args, **kwargs)\u001b[0m\n\u001b[1;32m    377\u001b[0m     \u001b[0;32mexcept\u001b[0m \u001b[0mStopIteration\u001b[0m\u001b[0;34m:\u001b[0m\u001b[0;34m\u001b[0m\u001b[0;34m\u001b[0m\u001b[0m\n\u001b[1;32m    378\u001b[0m         \u001b[0;32mraise\u001b[0m \u001b[0mValueError\u001b[0m\u001b[0;34m(\u001b[0m\u001b[0;34m'Cannot apply_along_axis when any iteration dimensions are 0'\u001b[0m\u001b[0;34m)\u001b[0m\u001b[0;34m\u001b[0m\u001b[0;34m\u001b[0m\u001b[0m\n\u001b[0;32m--> 379\u001b[0;31m     \u001b[0mres\u001b[0m \u001b[0;34m=\u001b[0m \u001b[0masanyarray\u001b[0m\u001b[0;34m(\u001b[0m\u001b[0mfunc1d\u001b[0m\u001b[0;34m(\u001b[0m\u001b[0minarr_view\u001b[0m\u001b[0;34m[\u001b[0m\u001b[0mind0\u001b[0m\u001b[0;34m]\u001b[0m\u001b[0;34m,\u001b[0m \u001b[0;34m*\u001b[0m\u001b[0margs\u001b[0m\u001b[0;34m,\u001b[0m \u001b[0;34m**\u001b[0m\u001b[0mkwargs\u001b[0m\u001b[0;34m)\u001b[0m\u001b[0;34m)\u001b[0m\u001b[0;34m\u001b[0m\u001b[0;34m\u001b[0m\u001b[0m\n\u001b[0m\u001b[1;32m    380\u001b[0m \u001b[0;34m\u001b[0m\u001b[0m\n\u001b[1;32m    381\u001b[0m     \u001b[0;31m# build a buffer for storing evaluations of func1d.\u001b[0m\u001b[0;34m\u001b[0m\u001b[0;34m\u001b[0m\u001b[0;34m\u001b[0m\u001b[0m\n",
      "\u001b[0;32m<ipython-input-17-063b16d99580>\u001b[0m in \u001b[0;36m<lambda>\u001b[0;34m(x)\u001b[0m\n\u001b[1;32m      1\u001b[0m \u001b[0;32mimport\u001b[0m \u001b[0mnumpy\u001b[0m \u001b[0;32mas\u001b[0m \u001b[0mnp\u001b[0m\u001b[0;34m\u001b[0m\u001b[0;34m\u001b[0m\u001b[0m\n\u001b[1;32m      2\u001b[0m \u001b[0ma\u001b[0m \u001b[0;34m=\u001b[0m \u001b[0mnp\u001b[0m\u001b[0;34m.\u001b[0m\u001b[0marray\u001b[0m\u001b[0;34m(\u001b[0m\u001b[0;34m[\u001b[0m\u001b[0;34m'A'\u001b[0m\u001b[0;34m,\u001b[0m \u001b[0;34m'B'\u001b[0m\u001b[0;34m]\u001b[0m\u001b[0;34m)\u001b[0m\u001b[0;34m\u001b[0m\u001b[0;34m\u001b[0m\u001b[0m\n\u001b[0;32m----> 3\u001b[0;31m \u001b[0mnp\u001b[0m\u001b[0;34m.\u001b[0m\u001b[0mapply_along_axis\u001b[0m\u001b[0;34m(\u001b[0m\u001b[0;32mlambda\u001b[0m \u001b[0mx\u001b[0m\u001b[0;34m:\u001b[0m \u001b[0mx\u001b[0m\u001b[0;34m.\u001b[0m\u001b[0mlower\u001b[0m\u001b[0;34m(\u001b[0m\u001b[0;34m)\u001b[0m\u001b[0;34m.\u001b[0m\u001b[0mstrip\u001b[0m\u001b[0;34m(\u001b[0m\u001b[0;34m)\u001b[0m\u001b[0;34m,\u001b[0m \u001b[0;36m0\u001b[0m\u001b[0;34m,\u001b[0m \u001b[0ma\u001b[0m\u001b[0;34m)\u001b[0m\u001b[0;34m\u001b[0m\u001b[0;34m\u001b[0m\u001b[0m\n\u001b[0m",
      "\u001b[0;31mAttributeError\u001b[0m: 'numpy.ndarray' object has no attribute 'lower'"
     ]
    }
   ],
   "source": [
    "import numpy as np\n",
    "a = np.array(['A', 'B'])\n",
    "np.apply_along_axis(lambda x: x.lower().strip(), 0, a)"
   ]
  },
  {
   "cell_type": "code",
   "execution_count": null,
   "metadata": {},
   "outputs": [],
   "source": []
  }
 ],
 "metadata": {
  "kernelspec": {
   "display_name": "Python 3",
   "language": "python",
   "name": "python3"
  },
  "language_info": {
   "codemirror_mode": {
    "name": "ipython",
    "version": 3
   },
   "file_extension": ".py",
   "mimetype": "text/x-python",
   "name": "python",
   "nbconvert_exporter": "python",
   "pygments_lexer": "ipython3",
   "version": "3.6.8"
  }
 },
 "nbformat": 4,
 "nbformat_minor": 4
}
